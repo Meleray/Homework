{
 "cells": [
  {
   "cell_type": "markdown",
   "metadata": {},
   "source": [
    "**Общая информация**\n",
    "\n",
    "**Срок сдачи:** 20 марта 2019, 06:00 <br\\>\n",
    "**Штраф за опоздание:** -1 балл после 06:00 20 марта, -2 балла после 06:00 27 марта, -3 балла после 06:00 3 апреля\n",
    "\n",
    "При отправлении ДЗ указывайте фамилию в названии файла\n",
    "Присылать ДЗ необходимо в виде ссылки на свой github репозиторий в slack @alkhamush\n",
    "\n",
    "Необходимо в slack скинуть ссылку в личный чат @alkhamush\n",
    "Пример ссылки:\n",
    "https://github.com/stroykova/spheremailru/stroykova_hw1.ipynb \n",
    "\n",
    "\n",
    "Используйте данный Ipython Notebook при оформлении домашнего задания."
   ]
  },
  {
   "cell_type": "markdown",
   "metadata": {},
   "source": [
    "###### Задание 1 (2 баллов)\n",
    "Реализовать KNN в классе MyKNeighborsClassifier (обязательное условие: точность не ниже sklearn реализации)\n",
    "Разберитесь самостоятельно, какая мера расстояния(мера Минковского) используется в KNeighborsClassifier дефолтно и реализуйте свой алгоритм именно с этой мерой. Самостоятельно разберитесь, как считается score из KNeighborsClassifier и реализуйте аналог в своём классе. Score не должен уступать значению KNN из sklearn\n",
    "\n",
    "###### Задание 2 (2 балла)\n",
    "Добиться скорости работы на fit,  predict и predict_proba сравнимой со sklearn для iris и mnist\n",
    "Для этого используем numpy\n",
    "\n",
    "###### Задание 3 (2 балла)\n",
    "Для iris найдите такой параметр n_neighbors, при котором выдаётся наилучший score. Нарисуйте график зависимости score от n_neighbors\n",
    "\n",
    "###### Задание 4 (3 балла)\n",
    "Добавить algorithm='kd_tree' в реализацию KNN (использовать KDTree из sklearn.neighbors). Значение n_neighbors нужно взять из задания 3. Добиться скорости работы на fit,  predict и predict_proba сравнимой со sklearn для iris и mnist\n",
    "Для этого используем numpy. Score не должен уступать значению KNN из sklearn\n",
    "\n",
    "###### Задание 5 (1 балла)\n",
    "Описать для чего нужны следующие библиотеки/классы/функции (список будет ниже)\n",
    "\n",
    "**Штрафные баллы:**\n",
    "\n",
    "1. Невыполнение PEP8 -1 балл\n",
    "2. Отсутствие фамилии в имени скрипта (скрипт должен называться по аналогии со stroykova_hw1.ipynb) -1 балл\n",
    "3. Все строчки должны быть выполнены. Нужно, чтобы output команды можно было увидеть уже в git'е. В противном случае -1 балл\n",
    "4. При оформлении ДЗ нужно пользоваться данным файлом в качестве шаблона. Не нужно удалять и видоизменять структуру кода и текст. В противном случае -1 балл\n"
   ]
  },
  {
   "cell_type": "code",
   "execution_count": 1,
   "metadata": {},
   "outputs": [],
   "source": [
    "import numpy as np\n",
    "import matplotlib.pyplot as plt\n",
    "import scipy as sp\n",
    "\n",
    "import seaborn as sns\n",
    "from sklearn import datasets\n",
    "from sklearn.base import ClassifierMixin\n",
    "from sklearn.datasets import fetch_mldata\n",
    "from sklearn.neighbors.base import NeighborsBase, KNeighborsMixin, SupervisedIntegerMixin \n",
    "from sklearn.model_selection import train_test_split\n",
    "from sklearn.neighbors import KNeighborsClassifier\n",
    "from sklearn.metrics import pairwise_distances\n",
    "from sklearn.neighbors import KDTree\n",
    "%load_ext pycodestyle_magic"
   ]
  },
  {
   "cell_type": "code",
   "execution_count": 32,
   "metadata": {},
   "outputs": [
    {
     "name": "stderr",
     "output_type": "stream",
     "text": [
      "4:80: E501 line too long (102 > 79 characters)\n",
      "41:80: E501 line too long (84 > 79 characters)\n",
      "48:1: W391 blank line at end of file\n"
     ]
    }
   ],
   "source": [
    "%%pycodestyle\n",
    "\n",
    "\n",
    "class MyKNeighborsClassifier(NeighborsBase, KNeighborsMixin, SupervisedIntegerMixin, ClassifierMixin):\n",
    "\n",
    "    def __init__(self, n_neighbors, algorithm='brute'):\n",
    "        self.n_neighbors = n_neighbors\n",
    "        self.algorithm = algorithm\n",
    "\n",
    "    def fit(self, X, y):\n",
    "        self.y_ = np.array(y)\n",
    "        self.classes_ = len(np.unique(y))\n",
    "        if self.algorithm == 'kd_tree':\n",
    "            self.Tree_ = KDTree(X)\n",
    "        elif self.algorithm == 'brute':\n",
    "            self.X_ = np.array(X)\n",
    "\n",
    "    def predict(self, X):\n",
    "        if self.algorithm == 'brute':\n",
    "            dst = pairwise_distances(X, self.X_)\n",
    "            y_pred = np.argpartition(dst, self.n_neighbors, axis=1)\n",
    "            y_pred = self.y_[y_pred[:, :self.n_neighbors]]\n",
    "            y_pred = sp.stats.mode(y_pred, axis=1)[0].flatten()\n",
    "        elif self.algorithm == 'kd_tree':\n",
    "            tree = self.Tree_\n",
    "            y_pred = tree.query(X, self.n_neighbors, return_distance=False)\n",
    "            y_pred = self.y_[y_pred]\n",
    "            y_pred = sp.stats.mode(y_pred, axis=1)[0].flatten()\n",
    "        return y_pred\n",
    "\n",
    "    def predict_proba(self, X):\n",
    "        if self.algorithm == 'brute':\n",
    "            dst = pairwise_distances(X, self.X_)\n",
    "            y_pred = np.argpartition(dst, self.n_neighbors, axis=1)\n",
    "            y_pred = self.y_[y_pred[:, :self.n_neighbors]]\n",
    "            y_pred = np.array(y_pred, dtype='int')\n",
    "        elif self.algorithm == 'kd_tree':\n",
    "            tree = self.Tree_\n",
    "            y_pred = tree.query(X, self.n_neighbors, return_distance=False)\n",
    "            y_pred = np.array(self.y_[y_pred], dtype='int')\n",
    "        proba = np.apply_along_axis(np.bincount, 1, y_pred, minlength=self.classes_)\n",
    "        return proba / self.n_neighbors\n",
    "\n",
    "    def score(self, X, y):\n",
    "        y_pred = np.array(self.predict(X), dtype='int')\n",
    "        score = (np.array(y, dtype='int') - y_pred == 0).sum() / len(y)\n",
    "        return score"
   ]
  },
  {
   "cell_type": "markdown",
   "metadata": {},
   "source": [
    "**IRIS**"
   ]
  },
  {
   "cell_type": "code",
   "execution_count": 21,
   "metadata": {},
   "outputs": [],
   "source": [
    "iris = datasets.load_iris()"
   ]
  },
  {
   "cell_type": "code",
   "execution_count": 22,
   "metadata": {},
   "outputs": [],
   "source": [
    "X_train, X_test, y_train, y_test = train_test_split(iris.data, iris.target, test_size=0.1, stratify=iris.target)"
   ]
  },
  {
   "cell_type": "code",
   "execution_count": 23,
   "metadata": {},
   "outputs": [],
   "source": [
    "clf = KNeighborsClassifier(n_neighbors=2)\n",
    "my_clf = MyKNeighborsClassifier(n_neighbors=2)"
   ]
  },
  {
   "cell_type": "code",
   "execution_count": 24,
   "metadata": {},
   "outputs": [
    {
     "name": "stdout",
     "output_type": "stream",
     "text": [
      "Wall time: 2 ms\n"
     ]
    },
    {
     "data": {
      "text/plain": [
       "KNeighborsClassifier(algorithm='auto', leaf_size=30, metric='minkowski',\n",
       "           metric_params=None, n_jobs=None, n_neighbors=2, p=2,\n",
       "           weights='uniform')"
      ]
     },
     "execution_count": 24,
     "metadata": {},
     "output_type": "execute_result"
    }
   ],
   "source": [
    "%time clf.fit(X_train, y_train)"
   ]
  },
  {
   "cell_type": "code",
   "execution_count": 25,
   "metadata": {},
   "outputs": [
    {
     "name": "stdout",
     "output_type": "stream",
     "text": [
      "Wall time: 998 µs\n"
     ]
    }
   ],
   "source": [
    "%time my_clf.fit(X_train, y_train)"
   ]
  },
  {
   "cell_type": "code",
   "execution_count": 26,
   "metadata": {},
   "outputs": [
    {
     "name": "stdout",
     "output_type": "stream",
     "text": [
      "Wall time: 4 ms\n"
     ]
    },
    {
     "data": {
      "text/plain": [
       "array([1, 0, 2, 1, 1, 1, 2, 1, 0, 0, 2, 0, 1, 1, 0])"
      ]
     },
     "execution_count": 26,
     "metadata": {},
     "output_type": "execute_result"
    }
   ],
   "source": [
    "%time clf.predict(X_test)"
   ]
  },
  {
   "cell_type": "code",
   "execution_count": 27,
   "metadata": {},
   "outputs": [
    {
     "name": "stdout",
     "output_type": "stream",
     "text": [
      "Wall time: 2 ms\n"
     ]
    },
    {
     "data": {
      "text/plain": [
       "array([1, 0, 2, 1, 1, 1, 2, 1, 0, 0, 2, 0, 1, 1, 0])"
      ]
     },
     "execution_count": 27,
     "metadata": {},
     "output_type": "execute_result"
    }
   ],
   "source": [
    "%time my_clf.predict(X_test)"
   ]
  },
  {
   "cell_type": "code",
   "execution_count": 28,
   "metadata": {
    "scrolled": true
   },
   "outputs": [
    {
     "name": "stdout",
     "output_type": "stream",
     "text": [
      "Wall time: 6.99 ms\n"
     ]
    },
    {
     "data": {
      "text/plain": [
       "array([[0. , 1. , 0. ],\n",
       "       [1. , 0. , 0. ],\n",
       "       [0. , 0. , 1. ],\n",
       "       [0. , 1. , 0. ],\n",
       "       [0. , 0.5, 0.5],\n",
       "       [0. , 0.5, 0.5],\n",
       "       [0. , 0. , 1. ],\n",
       "       [0. , 1. , 0. ],\n",
       "       [1. , 0. , 0. ],\n",
       "       [1. , 0. , 0. ],\n",
       "       [0. , 0. , 1. ],\n",
       "       [1. , 0. , 0. ],\n",
       "       [0. , 1. , 0. ],\n",
       "       [0. , 1. , 0. ],\n",
       "       [1. , 0. , 0. ]])"
      ]
     },
     "execution_count": 28,
     "metadata": {},
     "output_type": "execute_result"
    }
   ],
   "source": [
    "%time clf.predict_proba(X_test)"
   ]
  },
  {
   "cell_type": "code",
   "execution_count": 29,
   "metadata": {},
   "outputs": [
    {
     "name": "stdout",
     "output_type": "stream",
     "text": [
      "Wall time: 4.99 ms\n"
     ]
    },
    {
     "data": {
      "text/plain": [
       "array([[0. , 1. , 0. ],\n",
       "       [1. , 0. , 0. ],\n",
       "       [0. , 0. , 1. ],\n",
       "       [0. , 1. , 0. ],\n",
       "       [0. , 0.5, 0.5],\n",
       "       [0. , 0.5, 0.5],\n",
       "       [0. , 0. , 1. ],\n",
       "       [0. , 1. , 0. ],\n",
       "       [1. , 0. , 0. ],\n",
       "       [1. , 0. , 0. ],\n",
       "       [0. , 0. , 1. ],\n",
       "       [1. , 0. , 0. ],\n",
       "       [0. , 1. , 0. ],\n",
       "       [0. , 1. , 0. ],\n",
       "       [1. , 0. , 0. ]])"
      ]
     },
     "execution_count": 29,
     "metadata": {},
     "output_type": "execute_result"
    }
   ],
   "source": [
    "%time my_clf.predict_proba(X_test)"
   ]
  },
  {
   "cell_type": "code",
   "execution_count": 30,
   "metadata": {},
   "outputs": [
    {
     "data": {
      "text/plain": [
       "0.8666666666666667"
      ]
     },
     "execution_count": 30,
     "metadata": {},
     "output_type": "execute_result"
    }
   ],
   "source": [
    "clf.score(X_test, y_test)"
   ]
  },
  {
   "cell_type": "code",
   "execution_count": 31,
   "metadata": {
    "scrolled": true
   },
   "outputs": [
    {
     "data": {
      "text/plain": [
       "0.8666666666666667"
      ]
     },
     "execution_count": 31,
     "metadata": {},
     "output_type": "execute_result"
    }
   ],
   "source": [
    "my_clf.score(X_test, y_test)"
   ]
  },
  {
   "cell_type": "markdown",
   "metadata": {},
   "source": [
    "Задание 3"
   ]
  },
  {
   "cell_type": "code",
   "execution_count": 33,
   "metadata": {
    "scrolled": false
   },
   "outputs": [
    {
     "name": "stdout",
     "output_type": "stream",
     "text": [
      "Best score with n=17\n"
     ]
    },
    {
     "data": {
      "image/png": "[encoded data removed]",
      "text/plain": [
       "<Figure size 1008x360 with 1 Axes>"
      ]
     },
     "metadata": {
      "needs_background": "light"
     },
     "output_type": "display_data"
    }
   ],
   "source": [
    "fig = plt.figure(figsize= (14,5))\n",
    "ax = plt.subplot(111)\n",
    "neighbors = np.arange(1, 100, 1)\n",
    "score = np.zeros(shape=(99))\n",
    "for i in range(400):\n",
    "    X_train, X_test, y_train, y_test = train_test_split(iris.data, iris.target, test_size=0.1, stratify=iris.target)\n",
    "    my_clf = MyKNeighborsClassifier(n_neighbors=1)\n",
    "    my_clf.fit(X_train, y_train)\n",
    "    for j in range(len(neighbors)):\n",
    "        my_clf.n_neighbors = neighbors[j]\n",
    "        score[j] += my_clf.score(X_test, y_test)\n",
    "score = score / 400\n",
    "print('Best score with n={}'.format(np.argmax(score) + 1))\n",
    "line, = plt.plot(neighbors, score, lw=2)\n",
    "plt.show()"
   ]
  },
  {
   "cell_type": "markdown",
   "metadata": {},
   "source": [
    "**MNIST**"
   ]
  },
  {
   "cell_type": "code",
   "execution_count": 88,
   "metadata": {
    "scrolled": false
   },
   "outputs": [],
   "source": [
    "from sklearn.datasets import fetch_openml\n",
    "mnist = fetch_openml('mnist_784')"
   ]
  },
  {
   "cell_type": "code",
   "execution_count": 89,
   "metadata": {},
   "outputs": [],
   "source": [
    "X_train, X_test, y_train, y_test = train_test_split(mnist.data, mnist.target, test_size=0.01, stratify=mnist.target)"
   ]
  },
  {
   "cell_type": "code",
   "execution_count": 90,
   "metadata": {},
   "outputs": [],
   "source": [
    "clf = KNeighborsClassifier(n_neighbors=2)\n",
    "my_clf = MyKNeighborsClassifier(n_neighbors=2)"
   ]
  },
  {
   "cell_type": "code",
   "execution_count": 91,
   "metadata": {},
   "outputs": [
    {
     "name": "stdout",
     "output_type": "stream",
     "text": [
      "Wall time: 3min 57s\n",
      "Parser   : 268 ms\n"
     ]
    },
    {
     "data": {
      "text/plain": [
       "KNeighborsClassifier(algorithm='auto', leaf_size=30, metric='minkowski',\n",
       "           metric_params=None, n_jobs=None, n_neighbors=2, p=2,\n",
       "           weights='uniform')"
      ]
     },
     "execution_count": 91,
     "metadata": {},
     "output_type": "execute_result"
    }
   ],
   "source": [
    "%time clf.fit(X_train, y_train)"
   ]
  },
  {
   "cell_type": "code",
   "execution_count": 92,
   "metadata": {},
   "outputs": [
    {
     "name": "stdout",
     "output_type": "stream",
     "text": [
      "Wall time: 8.12 s\n"
     ]
    }
   ],
   "source": [
    "%time my_clf.fit(X_train, y_train)"
   ]
  },
  {
   "cell_type": "code",
   "execution_count": 93,
   "metadata": {},
   "outputs": [
    {
     "name": "stdout",
     "output_type": "stream",
     "text": [
      "Wall time: 4min 27s\n",
      "Parser   : 199 ms\n"
     ]
    },
    {
     "data": {
      "text/plain": [
       "array(['2', '4', '3', '6', '7', '1', '8', '2', '7', '0', '8', '7', '9',\n",
       "       '3', '8', '7', '5', '1', '6', '1', '7', '1', '0', '9', '8', '1',\n",
       "       '3', '5', '3', '5', '0', '2', '4', '8', '6', '1', '8', '6', '7',\n",
       "       '1', '8', '3', '1', '9', '6', '6', '8', '5', '6', '5', '3', '7',\n",
       "       '0', '3', '7', '2', '7', '5', '7', '3', '0', '5', '2', '3', '3',\n",
       "       '0', '9', '8', '4', '4', '1', '1', '6', '6', '0', '1', '1', '9',\n",
       "       '0', '2', '8', '3', '1', '4', '0', '4', '8', '3', '8', '9', '6',\n",
       "       '8', '7', '7', '9', '3', '2', '0', '7', '1', '2', '4', '2', '3',\n",
       "       '5', '9', '7', '5', '6', '4', '1', '5', '3', '1', '0', '0', '9',\n",
       "       '2', '1', '3', '0', '7', '9', '7', '1', '2', '6', '3', '0', '7',\n",
       "       '0', '0', '5', '6', '7', '5', '2', '0', '6', '7', '4', '3', '2',\n",
       "       '0', '1', '7', '4', '7', '6', '6', '8', '2', '4', '2', '3', '6',\n",
       "       '4', '5', '5', '1', '6', '1', '1', '3', '0', '4', '5', '4', '7',\n",
       "       '3', '4', '1', '2', '7', '5', '0', '2', '7', '5', '2', '7', '1',\n",
       "       '4', '8', '4', '1', '5', '1', '7', '7', '5', '9', '3', '8', '3',\n",
       "       '4', '5', '6', '3', '9', '4', '4', '7', '6', '5', '9', '0', '9',\n",
       "       '4', '0', '1', '5', '7', '4', '7', '3', '8', '1', '1', '2', '0',\n",
       "       '1', '7', '1', '9', '0', '3', '2', '2', '1', '9', '7', '2', '6',\n",
       "       '4', '2', '4', '0', '8', '8', '2', '7', '7', '7', '1', '1', '0',\n",
       "       '9', '8', '3', '3', '6', '1', '6', '0', '2', '4', '4', '8', '7',\n",
       "       '9', '4', '9', '6', '5', '8', '4', '3', '8', '1', '1', '2', '4',\n",
       "       '1', '2', '2', '5', '6', '8', '9', '0', '9', '2', '9', '6', '8',\n",
       "       '7', '6', '0', '0', '0', '8', '3', '1', '6', '2', '7', '1', '3',\n",
       "       '6', '2', '6', '5', '5', '4', '7', '9', '6', '8', '4', '9', '1',\n",
       "       '5', '1', '6', '9', '8', '9', '3', '1', '4', '1', '2', '6', '1',\n",
       "       '3', '5', '5', '4', '7', '7', '1', '1', '4', '4', '9', '4', '8',\n",
       "       '4', '4', '4', '0', '4', '3', '6', '4', '0', '0', '1', '7', '3',\n",
       "       '9', '4', '4', '2', '4', '2', '7', '1', '1', '3', '5', '1', '6',\n",
       "       '9', '1', '1', '9', '1', '0', '3', '8', '7', '7', '9', '1', '6',\n",
       "       '6', '5', '3', '7', '7', '0', '0', '1', '2', '7', '0', '3', '9',\n",
       "       '2', '9', '3', '6', '1', '0', '0', '6', '9', '7', '1', '8', '4',\n",
       "       '7', '1', '5', '1', '6', '6', '2', '9', '0', '0', '1', '8', '8',\n",
       "       '7', '1', '5', '4', '8', '2', '4', '9', '0', '3', '9', '0', '4',\n",
       "       '4', '2', '2', '3', '0', '1', '4', '0', '5', '5', '6', '6', '9',\n",
       "       '5', '1', '3', '2', '8', '3', '3', '5', '7', '4', '2', '6', '3',\n",
       "       '8', '8', '9', '7', '2', '9', '7', '7', '3', '3', '4', '9', '3',\n",
       "       '3', '5', '7', '8', '8', '7', '9', '0', '6', '1', '4', '1', '1',\n",
       "       '6', '3', '2', '5', '1', '2', '0', '2', '5', '5', '2', '8', '9',\n",
       "       '3', '0', '3', '0', '6', '7', '5', '9', '5', '3', '4', '8', '0',\n",
       "       '3', '2', '2', '2', '1', '3', '7', '2', '0', '8', '9', '8', '6',\n",
       "       '9', '0', '6', '3', '7', '8', '2', '8', '1', '3', '0', '4', '6',\n",
       "       '3', '6', '5', '5', '5', '5', '5', '7', '1', '7', '7', '2', '6',\n",
       "       '2', '3', '5', '2', '8', '5', '2', '8', '1', '4', '9', '2', '2',\n",
       "       '1', '5', '1', '1', '9', '6', '8', '0', '2', '6', '6', '9', '8',\n",
       "       '3', '4', '6', '6', '4', '5', '9', '8', '7', '2', '6', '1', '6',\n",
       "       '0', '6', '6', '0', '3', '6', '6', '6', '9', '1', '2', '5', '4',\n",
       "       '1', '6', '1', '6', '0', '9', '9', '3', '6', '1', '2', '9', '4',\n",
       "       '5', '8', '9', '9', '3', '0', '4', '0', '8', '0', '3', '1', '2',\n",
       "       '2', '2', '5', '6', '2', '9', '2', '5', '8', '4', '1', '3', '7',\n",
       "       '9', '2', '4', '0', '2', '8', '2', '3', '3', '9', '7', '8', '8',\n",
       "       '7', '7', '5', '7', '9', '4', '8', '2', '4', '8', '8', '0', '3',\n",
       "       '3', '7', '4', '0', '6', '0', '2', '8', '4', '9', '0', '3', '0',\n",
       "       '9', '9', '4', '0', '9', '4', '6', '6', '0', '5', '5', '5', '0',\n",
       "       '0', '4', '3', '9', '0', '9', '1', '5', '7', '8', '2'],\n",
       "      dtype=object)"
      ]
     },
     "execution_count": 93,
     "metadata": {},
     "output_type": "execute_result"
    }
   ],
   "source": [
    "%time clf.predict(X_test)"
   ]
  },
  {
   "cell_type": "code",
   "execution_count": 94,
   "metadata": {},
   "outputs": [
    {
     "name": "stderr",
     "output_type": "stream",
     "text": [
      "C:\\Users\\MK\\Anaconda3\\lib\\site-packages\\scipy\\stats\\stats.py:245: RuntimeWarning: The input array could not be properly checked for nan values. nan values will be ignored.\n",
      "  \"values. nan values will be ignored.\", RuntimeWarning)\n"
     ]
    },
    {
     "name": "stdout",
     "output_type": "stream",
     "text": [
      "Wall time: 1min 6s\n"
     ]
    },
    {
     "data": {
      "text/plain": [
       "array(['2', '4', '3', '6', '7', '1', '8', '2', '7', '0', '8', '7', '9',\n",
       "       '3', '8', '7', '5', '1', '6', '1', '7', '1', '0', '9', '8', '1',\n",
       "       '3', '5', '3', '5', '0', '2', '4', '8', '6', '1', '8', '6', '7',\n",
       "       '1', '8', '3', '1', '9', '6', '6', '8', '5', '6', '5', '3', '7',\n",
       "       '0', '3', '7', '2', '7', '5', '7', '3', '0', '5', '2', '3', '3',\n",
       "       '0', '9', '8', '4', '4', '1', '1', '6', '6', '0', '1', '1', '9',\n",
       "       '0', '2', '8', '3', '1', '4', '0', '4', '8', '3', '8', '9', '6',\n",
       "       '8', '7', '7', '9', '3', '2', '0', '7', '1', '2', '4', '2', '3',\n",
       "       '5', '9', '7', '5', '6', '4', '1', '5', '3', '1', '0', '0', '9',\n",
       "       '2', '1', '3', '0', '7', '9', '7', '1', '2', '6', '3', '0', '7',\n",
       "       '0', '0', '5', '6', '7', '5', '2', '0', '6', '7', '4', '3', '2',\n",
       "       '0', '1', '7', '4', '7', '6', '6', '8', '2', '4', '2', '3', '6',\n",
       "       '4', '5', '5', '1', '6', '1', '1', '3', '0', '4', '5', '4', '7',\n",
       "       '3', '4', '1', '2', '7', '5', '0', '2', '7', '5', '2', '7', '1',\n",
       "       '4', '8', '4', '1', '5', '1', '7', '7', '5', '9', '3', '8', '3',\n",
       "       '4', '5', '6', '3', '9', '4', '4', '7', '6', '5', '9', '0', '9',\n",
       "       '4', '0', '1', '5', '7', '4', '7', '3', '8', '1', '1', '2', '0',\n",
       "       '1', '7', '1', '9', '0', '3', '2', '2', '1', '9', '7', '2', '6',\n",
       "       '4', '2', '4', '0', '8', '8', '2', '7', '7', '7', '1', '1', '0',\n",
       "       '9', '8', '3', '3', '6', '1', '6', '0', '2', '4', '4', '8', '7',\n",
       "       '9', '4', '9', '6', '5', '8', '4', '3', '8', '1', '1', '2', '4',\n",
       "       '1', '2', '2', '5', '6', '8', '9', '0', '9', '2', '9', '6', '8',\n",
       "       '7', '6', '0', '0', '0', '8', '3', '1', '6', '2', '7', '1', '3',\n",
       "       '6', '2', '6', '5', '5', '4', '7', '9', '6', '8', '4', '9', '1',\n",
       "       '5', '1', '6', '9', '8', '9', '3', '1', '4', '1', '2', '6', '1',\n",
       "       '3', '5', '5', '4', '7', '7', '1', '1', '4', '4', '9', '4', '8',\n",
       "       '4', '4', '4', '0', '4', '3', '6', '4', '0', '0', '1', '7', '3',\n",
       "       '9', '4', '4', '2', '4', '2', '7', '1', '1', '3', '5', '1', '6',\n",
       "       '9', '1', '1', '9', '1', '0', '3', '8', '7', '7', '9', '1', '6',\n",
       "       '6', '5', '3', '7', '7', '0', '0', '1', '2', '7', '0', '3', '9',\n",
       "       '2', '9', '3', '6', '1', '0', '0', '6', '9', '7', '1', '8', '4',\n",
       "       '7', '1', '5', '1', '6', '6', '2', '9', '0', '0', '1', '8', '8',\n",
       "       '7', '1', '5', '4', '8', '2', '4', '9', '0', '3', '9', '0', '4',\n",
       "       '4', '2', '2', '3', '0', '1', '4', '0', '5', '5', '6', '6', '9',\n",
       "       '5', '1', '3', '2', '8', '3', '3', '5', '7', '4', '2', '6', '3',\n",
       "       '8', '8', '9', '7', '2', '9', '7', '7', '3', '3', '4', '9', '3',\n",
       "       '3', '5', '7', '8', '8', '7', '9', '0', '6', '1', '4', '1', '1',\n",
       "       '6', '3', '2', '5', '1', '2', '0', '2', '5', '5', '2', '8', '9',\n",
       "       '3', '0', '3', '0', '6', '7', '5', '9', '5', '3', '4', '8', '0',\n",
       "       '3', '2', '2', '2', '1', '3', '7', '2', '0', '8', '9', '8', '6',\n",
       "       '9', '0', '6', '3', '7', '8', '2', '8', '1', '3', '0', '4', '6',\n",
       "       '3', '6', '5', '5', '5', '5', '5', '7', '1', '7', '7', '2', '6',\n",
       "       '2', '3', '5', '2', '8', '5', '2', '8', '1', '4', '9', '2', '2',\n",
       "       '1', '5', '1', '1', '9', '6', '8', '0', '2', '6', '6', '9', '8',\n",
       "       '3', '4', '6', '6', '4', '5', '9', '8', '7', '2', '6', '1', '6',\n",
       "       '0', '6', '6', '0', '3', '6', '6', '6', '9', '1', '2', '5', '4',\n",
       "       '1', '6', '1', '6', '0', '9', '9', '3', '6', '1', '2', '9', '4',\n",
       "       '5', '8', '9', '9', '3', '0', '4', '0', '8', '0', '3', '1', '2',\n",
       "       '2', '2', '5', '6', '2', '9', '2', '5', '8', '4', '1', '3', '7',\n",
       "       '9', '2', '4', '0', '2', '8', '2', '3', '3', '9', '7', '8', '8',\n",
       "       '7', '7', '5', '7', '9', '4', '8', '2', '4', '8', '8', '0', '3',\n",
       "       '3', '7', '4', '0', '6', '0', '2', '8', '4', '9', '0', '3', '0',\n",
       "       '9', '9', '4', '0', '9', '4', '6', '6', '0', '5', '5', '5', '0',\n",
       "       '0', '4', '3', '9', '0', '9', '1', '5', '7', '8', '2'],\n",
       "      dtype=object)"
      ]
     },
     "execution_count": 94,
     "metadata": {},
     "output_type": "execute_result"
    }
   ],
   "source": [
    "%time my_clf.predict(X_test)\n"
   ]
  },
  {
   "cell_type": "code",
   "execution_count": 95,
   "metadata": {
    "scrolled": true
   },
   "outputs": [
    {
     "name": "stdout",
     "output_type": "stream",
     "text": [
      "Wall time: 4min 33s\n",
      "Parser   : 286 ms\n"
     ]
    },
    {
     "data": {
      "text/plain": [
       "array([[0., 0., 1., ..., 0., 0., 0.],\n",
       "       [0., 0., 0., ..., 0., 0., 0.],\n",
       "       [0., 0., 0., ..., 0., 0., 0.],\n",
       "       ...,\n",
       "       [0., 0., 0., ..., 1., 0., 0.],\n",
       "       [0., 0., 0., ..., 0., 1., 0.],\n",
       "       [0., 0., 1., ..., 0., 0., 0.]])"
      ]
     },
     "execution_count": 95,
     "metadata": {},
     "output_type": "execute_result"
    }
   ],
   "source": [
    "%time clf.predict_proba(X_test)"
   ]
  },
  {
   "cell_type": "code",
   "execution_count": 96,
   "metadata": {},
   "outputs": [
    {
     "name": "stdout",
     "output_type": "stream",
     "text": [
      "Wall time: 1min 6s\n",
      "Parser   : 173 ms\n"
     ]
    },
    {
     "data": {
      "text/plain": [
       "array([[0., 0., 1., ..., 0., 0., 0.],\n",
       "       [0., 0., 0., ..., 0., 0., 0.],\n",
       "       [0., 0., 0., ..., 0., 0., 0.],\n",
       "       ...,\n",
       "       [0., 0., 0., ..., 1., 0., 0.],\n",
       "       [0., 0., 0., ..., 0., 1., 0.],\n",
       "       [0., 0., 1., ..., 0., 0., 0.]])"
      ]
     },
     "execution_count": 96,
     "metadata": {},
     "output_type": "execute_result"
    }
   ],
   "source": [
    "%time my_clf.predict_proba(X_test)"
   ]
  },
  {
   "cell_type": "code",
   "execution_count": 97,
   "metadata": {},
   "outputs": [
    {
     "data": {
      "text/plain": [
       "0.9642857142857143"
      ]
     },
     "execution_count": 97,
     "metadata": {},
     "output_type": "execute_result"
    }
   ],
   "source": [
    "clf.score(X_test, y_test)"
   ]
  },
  {
   "cell_type": "code",
   "execution_count": 98,
   "metadata": {},
   "outputs": [
    {
     "name": "stderr",
     "output_type": "stream",
     "text": [
      "C:\\Users\\MK\\Anaconda3\\lib\\site-packages\\scipy\\stats\\stats.py:245: RuntimeWarning: The input array could not be properly checked for nan values. nan values will be ignored.\n",
      "  \"values. nan values will be ignored.\", RuntimeWarning)\n"
     ]
    },
    {
     "data": {
      "text/plain": [
       "0.9642857142857143"
      ]
     },
     "execution_count": 98,
     "metadata": {},
     "output_type": "execute_result"
    }
   ],
   "source": [
    "my_clf.score(X_test, y_test)"
   ]
  },
  {
   "cell_type": "markdown",
   "metadata": {},
   "source": [
    "Задание 4"
   ]
  },
  {
   "cell_type": "code",
   "execution_count": 99,
   "metadata": {},
   "outputs": [],
   "source": [
    "clf = KNeighborsClassifier(n_neighbors=17, algorithm='kd_tree')\n",
    "my_clf = MyKNeighborsClassifier(n_neighbors=17, algorithm='kd_tree')"
   ]
  },
  {
   "cell_type": "code",
   "execution_count": 100,
   "metadata": {},
   "outputs": [],
   "source": [
    "X_train, X_test, y_train, y_test = train_test_split(mnist.data, mnist.target, test_size=0.01, stratify=mnist.target)"
   ]
  },
  {
   "cell_type": "code",
   "execution_count": 101,
   "metadata": {},
   "outputs": [
    {
     "name": "stdout",
     "output_type": "stream",
     "text": [
      "Wall time: 4min 4s\n",
      "Parser   : 322 ms\n"
     ]
    },
    {
     "data": {
      "text/plain": [
       "KNeighborsClassifier(algorithm='kd_tree', leaf_size=30, metric='minkowski',\n",
       "           metric_params=None, n_jobs=None, n_neighbors=17, p=2,\n",
       "           weights='uniform')"
      ]
     },
     "execution_count": 101,
     "metadata": {},
     "output_type": "execute_result"
    }
   ],
   "source": [
    "%time clf.fit(X_train, y_train)"
   ]
  },
  {
   "cell_type": "code",
   "execution_count": 102,
   "metadata": {},
   "outputs": [
    {
     "name": "stdout",
     "output_type": "stream",
     "text": [
      "Wall time: 4min 22s\n",
      "Parser   : 370 ms\n"
     ]
    }
   ],
   "source": [
    "%time my_clf.fit(X_train, y_train)"
   ]
  },
  {
   "cell_type": "code",
   "execution_count": 103,
   "metadata": {},
   "outputs": [
    {
     "name": "stdout",
     "output_type": "stream",
     "text": [
      "Wall time: 4min 47s\n",
      "Compiler : 185 ms\n",
      "Parser   : 197 ms\n"
     ]
    },
    {
     "data": {
      "text/plain": [
       "array(['5', '2', '4', '2', '5', '4', '1', '6', '7', '4', '6', '9', '4',\n",
       "       '2', '1', '5', '5', '2', '6', '8', '3', '2', '7', '7', '0', '0',\n",
       "       '7', '2', '0', '3', '8', '9', '6', '6', '6', '9', '1', '8', '9',\n",
       "       '4', '5', '1', '9', '7', '7', '6', '4', '0', '9', '4', '9', '6',\n",
       "       '3', '2', '6', '9', '4', '8', '4', '6', '9', '9', '2', '8', '4',\n",
       "       '6', '4', '1', '1', '1', '2', '9', '0', '9', '4', '6', '4', '6',\n",
       "       '1', '5', '9', '3', '9', '9', '7', '7', '8', '0', '3', '7', '9',\n",
       "       '2', '7', '5', '5', '9', '6', '7', '2', '2', '7', '4', '8', '4',\n",
       "       '2', '4', '5', '8', '0', '4', '9', '1', '6', '7', '4', '4', '4',\n",
       "       '3', '2', '1', '8', '8', '8', '4', '4', '2', '5', '1', '6', '9',\n",
       "       '9', '7', '5', '9', '8', '1', '5', '0', '0', '2', '1', '9', '1',\n",
       "       '2', '7', '9', '2', '8', '4', '5', '1', '6', '5', '8', '6', '1',\n",
       "       '9', '6', '7', '8', '6', '3', '6', '0', '3', '6', '4', '0', '7',\n",
       "       '2', '6', '3', '7', '0', '5', '5', '2', '0', '9', '8', '9', '8',\n",
       "       '6', '4', '8', '6', '0', '6', '8', '4', '9', '7', '3', '6', '1',\n",
       "       '0', '8', '7', '0', '8', '8', '9', '1', '9', '9', '0', '9', '2',\n",
       "       '0', '5', '3', '4', '9', '2', '6', '7', '1', '5', '1', '0', '2',\n",
       "       '8', '2', '8', '8', '6', '0', '1', '0', '5', '1', '4', '6', '1',\n",
       "       '2', '9', '9', '2', '9', '1', '8', '8', '5', '6', '1', '8', '4',\n",
       "       '4', '5', '7', '3', '4', '2', '1', '9', '3', '3', '4', '6', '0',\n",
       "       '5', '4', '2', '0', '2', '6', '9', '2', '3', '9', '8', '5', '8',\n",
       "       '9', '1', '7', '9', '8', '1', '3', '0', '3', '7', '2', '3', '1',\n",
       "       '4', '4', '6', '0', '5', '2', '2', '1', '0', '2', '7', '4', '1',\n",
       "       '1', '4', '2', '2', '5', '1', '7', '7', '8', '1', '2', '8', '0',\n",
       "       '3', '0', '5', '0', '8', '8', '4', '9', '6', '3', '7', '6', '2',\n",
       "       '3', '1', '3', '5', '7', '3', '1', '4', '1', '1', '2', '2', '5',\n",
       "       '3', '9', '4', '1', '5', '6', '8', '5', '7', '1', '1', '6', '2',\n",
       "       '2', '0', '0', '5', '6', '3', '0', '2', '4', '5', '6', '0', '3',\n",
       "       '3', '6', '6', '0', '1', '0', '7', '5', '7', '7', '8', '0', '3',\n",
       "       '6', '5', '0', '2', '2', '2', '3', '4', '0', '1', '5', '3', '7',\n",
       "       '4', '3', '1', '0', '5', '9', '8', '3', '1', '2', '6', '9', '6',\n",
       "       '1', '7', '3', '3', '0', '0', '7', '6', '5', '3', '3', '6', '5',\n",
       "       '9', '7', '6', '7', '4', '9', '2', '3', '4', '3', '7', '7', '4',\n",
       "       '3', '5', '7', '7', '1', '7', '1', '2', '1', '0', '2', '4', '5',\n",
       "       '6', '6', '8', '4', '2', '8', '0', '1', '0', '8', '9', '6', '5',\n",
       "       '2', '9', '4', '1', '9', '4', '9', '1', '9', '9', '2', '0', '1',\n",
       "       '4', '9', '3', '1', '0', '1', '2', '7', '9', '0', '3', '7', '9',\n",
       "       '7', '6', '3', '2', '3', '3', '5', '7', '8', '6', '0', '3', '1',\n",
       "       '2', '7', '0', '1', '7', '1', '5', '1', '3', '3', '7', '2', '0',\n",
       "       '5', '3', '9', '2', '3', '6', '9', '7', '3', '0', '1', '9', '1',\n",
       "       '3', '7', '1', '1', '9', '1', '1', '7', '9', '7', '1', '3', '3',\n",
       "       '3', '0', '9', '7', '0', '7', '7', '9', '2', '8', '7', '9', '3',\n",
       "       '2', '0', '4', '4', '4', '9', '7', '6', '1', '0', '3', '3', '3',\n",
       "       '0', '4', '9', '2', '8', '5', '4', '0', '3', '5', '6', '0', '3',\n",
       "       '6', '5', '7', '4', '6', '7', '3', '5', '5', '3', '8', '0', '1',\n",
       "       '1', '5', '9', '1', '8', '9', '7', '7', '0', '5', '9', '1', '4',\n",
       "       '0', '8', '9', '0', '8', '1', '9', '4', '1', '6', '9', '8', '7',\n",
       "       '2', '4', '5', '7', '7', '3', '7', '6', '8', '0', '0', '7', '0',\n",
       "       '1', '9', '4', '8', '0', '7', '5', '9', '8', '9', '6', '0', '6',\n",
       "       '7', '3', '1', '2', '6', '5', '3', '5', '1', '1', '6', '5', '4',\n",
       "       '7', '2', '8', '3', '0', '7', '5', '3', '9', '3', '2', '6', '1',\n",
       "       '0', '3', '2', '4', '5', '2', '1', '7', '1', '8', '9', '3', '0',\n",
       "       '7', '4', '5', '5', '9', '6', '2', '8', '8', '1', '4', '5', '1',\n",
       "       '8', '1', '9', '8', '5', '6', '3', '1', '2', '0', '5'],\n",
       "      dtype=object)"
      ]
     },
     "execution_count": 103,
     "metadata": {},
     "output_type": "execute_result"
    }
   ],
   "source": [
    "%time clf.predict(X_test)"
   ]
  },
  {
   "cell_type": "code",
   "execution_count": 104,
   "metadata": {},
   "outputs": [
    {
     "name": "stdout",
     "output_type": "stream",
     "text": [
      "Wall time: 3min 38s\n",
      "Parser   : 187 ms\n"
     ]
    },
    {
     "name": "stderr",
     "output_type": "stream",
     "text": [
      "C:\\Users\\MK\\Anaconda3\\lib\\site-packages\\scipy\\stats\\stats.py:245: RuntimeWarning: The input array could not be properly checked for nan values. nan values will be ignored.\n",
      "  \"values. nan values will be ignored.\", RuntimeWarning)\n"
     ]
    },
    {
     "data": {
      "text/plain": [
       "array(['5', '2', '4', '2', '5', '4', '1', '6', '7', '4', '6', '9', '4',\n",
       "       '2', '1', '5', '5', '2', '6', '8', '3', '2', '7', '7', '0', '0',\n",
       "       '7', '2', '0', '3', '8', '9', '6', '6', '6', '9', '1', '8', '9',\n",
       "       '4', '5', '1', '9', '7', '7', '6', '4', '0', '9', '4', '9', '6',\n",
       "       '3', '2', '6', '9', '4', '8', '4', '6', '9', '9', '2', '8', '4',\n",
       "       '6', '4', '1', '1', '1', '2', '9', '0', '9', '4', '6', '4', '6',\n",
       "       '1', '5', '9', '3', '9', '9', '7', '7', '8', '0', '3', '7', '9',\n",
       "       '2', '7', '5', '5', '9', '6', '7', '2', '2', '7', '4', '8', '4',\n",
       "       '2', '4', '5', '8', '0', '4', '9', '1', '6', '7', '4', '4', '4',\n",
       "       '3', '2', '1', '8', '8', '8', '4', '4', '2', '5', '1', '6', '9',\n",
       "       '9', '7', '5', '9', '8', '1', '5', '0', '0', '2', '1', '9', '1',\n",
       "       '2', '7', '9', '2', '8', '4', '5', '1', '6', '5', '8', '6', '1',\n",
       "       '9', '6', '7', '8', '6', '3', '6', '0', '3', '6', '4', '0', '7',\n",
       "       '2', '6', '3', '7', '0', '5', '5', '2', '0', '9', '8', '9', '8',\n",
       "       '6', '4', '8', '6', '0', '6', '8', '4', '9', '7', '3', '6', '1',\n",
       "       '0', '8', '7', '0', '8', '8', '9', '1', '9', '9', '0', '9', '2',\n",
       "       '0', '5', '3', '4', '9', '2', '6', '7', '1', '5', '1', '0', '2',\n",
       "       '8', '2', '8', '8', '6', '0', '1', '0', '5', '1', '4', '6', '1',\n",
       "       '2', '9', '9', '2', '9', '1', '8', '8', '5', '6', '1', '8', '4',\n",
       "       '4', '5', '7', '3', '4', '2', '1', '9', '3', '3', '4', '6', '0',\n",
       "       '5', '4', '2', '0', '2', '6', '9', '2', '3', '9', '8', '5', '8',\n",
       "       '9', '1', '7', '9', '8', '1', '3', '0', '3', '7', '2', '3', '1',\n",
       "       '4', '4', '6', '0', '5', '2', '2', '1', '0', '2', '7', '4', '1',\n",
       "       '1', '4', '2', '2', '5', '1', '7', '7', '8', '1', '2', '8', '0',\n",
       "       '3', '0', '5', '0', '8', '8', '4', '9', '6', '3', '7', '6', '2',\n",
       "       '3', '1', '3', '5', '7', '3', '1', '4', '1', '1', '2', '2', '5',\n",
       "       '3', '9', '4', '1', '5', '6', '8', '5', '7', '1', '1', '6', '2',\n",
       "       '2', '0', '0', '5', '6', '3', '0', '2', '4', '5', '6', '0', '3',\n",
       "       '3', '6', '6', '0', '1', '0', '7', '5', '7', '7', '8', '0', '3',\n",
       "       '6', '5', '0', '2', '2', '2', '3', '4', '0', '1', '5', '3', '7',\n",
       "       '4', '3', '1', '0', '5', '9', '8', '3', '1', '2', '6', '9', '6',\n",
       "       '1', '7', '3', '3', '0', '0', '7', '6', '5', '3', '3', '6', '5',\n",
       "       '9', '7', '6', '7', '4', '9', '2', '3', '4', '3', '7', '7', '4',\n",
       "       '3', '5', '7', '7', '1', '7', '1', '2', '1', '0', '2', '4', '5',\n",
       "       '6', '6', '8', '4', '2', '8', '0', '1', '0', '8', '9', '6', '5',\n",
       "       '2', '9', '4', '1', '9', '4', '9', '1', '9', '9', '2', '0', '1',\n",
       "       '4', '9', '3', '1', '0', '1', '2', '7', '9', '0', '3', '7', '9',\n",
       "       '7', '6', '3', '2', '3', '3', '5', '7', '8', '6', '0', '3', '1',\n",
       "       '2', '7', '0', '1', '7', '1', '5', '1', '3', '3', '7', '2', '0',\n",
       "       '5', '3', '9', '2', '3', '6', '9', '7', '3', '0', '1', '9', '1',\n",
       "       '3', '7', '1', '1', '9', '1', '1', '7', '9', '7', '1', '3', '3',\n",
       "       '3', '0', '9', '7', '0', '7', '7', '9', '2', '8', '7', '9', '3',\n",
       "       '2', '0', '4', '4', '4', '9', '7', '6', '1', '0', '3', '3', '3',\n",
       "       '0', '4', '9', '2', '8', '5', '4', '0', '3', '5', '6', '0', '3',\n",
       "       '6', '5', '7', '4', '6', '7', '3', '5', '5', '3', '8', '0', '1',\n",
       "       '1', '5', '9', '1', '8', '9', '7', '7', '0', '5', '9', '1', '4',\n",
       "       '0', '8', '9', '0', '8', '1', '9', '4', '1', '6', '9', '8', '7',\n",
       "       '2', '4', '5', '7', '7', '3', '7', '6', '8', '0', '0', '7', '0',\n",
       "       '1', '9', '4', '8', '0', '7', '5', '9', '8', '9', '6', '0', '6',\n",
       "       '7', '3', '1', '2', '6', '5', '3', '5', '1', '1', '6', '5', '4',\n",
       "       '7', '2', '8', '3', '0', '7', '5', '3', '9', '3', '2', '6', '1',\n",
       "       '0', '3', '2', '4', '5', '2', '1', '7', '1', '8', '9', '3', '0',\n",
       "       '7', '4', '5', '5', '9', '6', '2', '8', '8', '1', '4', '5', '1',\n",
       "       '8', '1', '9', '8', '5', '6', '3', '1', '2', '0', '5'],\n",
       "      dtype=object)"
      ]
     },
     "execution_count": 104,
     "metadata": {},
     "output_type": "execute_result"
    }
   ],
   "source": [
    "%time my_clf.predict(X_test)"
   ]
  },
  {
   "cell_type": "code",
   "execution_count": 105,
   "metadata": {},
   "outputs": [
    {
     "name": "stdout",
     "output_type": "stream",
     "text": [
      "Wall time: 4min 36s\n"
     ]
    },
    {
     "data": {
      "text/plain": [
       "array([[0., 0., 0., ..., 0., 0., 0.],\n",
       "       [0., 0., 1., ..., 0., 0., 0.],\n",
       "       [0., 0., 0., ..., 0., 0., 0.],\n",
       "       ...,\n",
       "       [0., 0., 1., ..., 0., 0., 0.],\n",
       "       [1., 0., 0., ..., 0., 0., 0.],\n",
       "       [0., 0., 0., ..., 0., 0., 0.]])"
      ]
     },
     "execution_count": 105,
     "metadata": {},
     "output_type": "execute_result"
    }
   ],
   "source": [
    "%time clf.predict_proba(X_test)"
   ]
  },
  {
   "cell_type": "code",
   "execution_count": 106,
   "metadata": {},
   "outputs": [
    {
     "name": "stdout",
     "output_type": "stream",
     "text": [
      "Wall time: 3min 32s\n"
     ]
    },
    {
     "data": {
      "text/plain": [
       "array([[0., 0., 0., ..., 0., 0., 0.],\n",
       "       [0., 0., 1., ..., 0., 0., 0.],\n",
       "       [0., 0., 0., ..., 0., 0., 0.],\n",
       "       ...,\n",
       "       [0., 0., 1., ..., 0., 0., 0.],\n",
       "       [1., 0., 0., ..., 0., 0., 0.],\n",
       "       [0., 0., 0., ..., 0., 0., 0.]])"
      ]
     },
     "execution_count": 106,
     "metadata": {},
     "output_type": "execute_result"
    }
   ],
   "source": [
    "%time my_clf.predict_proba(X_test)"
   ]
  },
  {
   "cell_type": "code",
   "execution_count": 107,
   "metadata": {},
   "outputs": [
    {
     "data": {
      "text/plain": [
       "0.9614285714285714"
      ]
     },
     "execution_count": 107,
     "metadata": {},
     "output_type": "execute_result"
    }
   ],
   "source": [
    "clf.score(X_test, y_test)"
   ]
  },
  {
   "cell_type": "code",
   "execution_count": 108,
   "metadata": {},
   "outputs": [
    {
     "name": "stderr",
     "output_type": "stream",
     "text": [
      "C:\\Users\\MK\\Anaconda3\\lib\\site-packages\\scipy\\stats\\stats.py:245: RuntimeWarning: The input array could not be properly checked for nan values. nan values will be ignored.\n",
      "  \"values. nan values will be ignored.\", RuntimeWarning)\n"
     ]
    },
    {
     "data": {
      "text/plain": [
       "0.9614285714285714"
      ]
     },
     "execution_count": 108,
     "metadata": {},
     "output_type": "execute_result"
    }
   ],
   "source": [
    "my_clf.score(X_test, y_test)"
   ]
  },
  {
   "cell_type": "markdown",
   "metadata": {},
   "source": [
    "\n",
    "Задание 5"
   ]
  },
  {
   "cell_type": "code",
   "execution_count": null,
   "metadata": {},
   "outputs": [],
   "source": [
    "# seaborn - построение сложных и информативных видов графиков, выручает, когда matplotlib не подходит\n",
    "# matplotlib - стандартная библиотека для построения графиков\n",
    "# train_test_split - разбиение датасета на тестовую и обучающую выборки\n",
    "# Pipelin%load_ext e (from sklearn.pipeline import Pipeline) - реализация конвейера(удобно, когда нужно проделать много однотипных операций)\n",
    "# StandardScaler (from sklearn.preprocessing import StandardScaler) - стандартизация датасета(приведение данных таким обрзом, \n",
    "# чтобы датасет имел среднее значение 0 и стандартное отклонение 1)\n",
    "# ClassifierMixin - универсальный класс для всех классификаторов, может подсчитывать score\n",
    "# NeighborsBase - базовый класс, содержащий все параметры, необходимые для KNN\n",
    "# KNeighborsMixin - базовый класс для KNN\n",
    "# SupervisedIntegerMixin - универсальный класс для всех классификаторов, может делать fit модели при обучении с учителем"
   ]
  }
 ],
 "metadata": {
  "kernelspec": {
   "display_name": "Python 3",
   "language": "python",
   "name": "python3"
  },
  "language_info": {
   "codemirror_mode": {
    "name": "ipython",
    "version": 3
   },
   "file_extension": ".py",
   "mimetype": "text/x-python",
   "name": "python",
   "nbconvert_exporter": "python",
   "pygments_lexer": "ipython3",
   "version": "3.7.1"
  }
 },
 "nbformat": 4,
 "nbformat_minor": 2
}
